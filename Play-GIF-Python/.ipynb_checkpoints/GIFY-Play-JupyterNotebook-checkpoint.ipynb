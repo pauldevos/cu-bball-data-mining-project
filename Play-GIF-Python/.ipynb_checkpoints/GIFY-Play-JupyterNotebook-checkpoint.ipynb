{
 "cells": [
  {
   "cell_type": "code",
   "execution_count": 1,
   "metadata": {},
   "outputs": [
    {
     "name": "stderr",
     "output_type": "stream",
     "text": [
      "usage: ipykernel_launcher.py [-h] --path PATH [--event EVENT]\n",
      "ipykernel_launcher.py: error: argument --path is required\n"
     ]
    },
    {
     "ename": "SystemExit",
     "evalue": "2",
     "output_type": "error",
     "traceback": [
      "An exception has occurred, use %tb to see the full traceback.\n",
      "\u001b[1;31mSystemExit\u001b[0m\u001b[1;31m:\u001b[0m 2\n"
     ]
    },
    {
     "name": "stderr",
     "output_type": "stream",
     "text": [
      "C:\\Users\\jchin\\Anaconda2\\lib\\site-packages\\IPython\\core\\interactiveshell.py:2889: UserWarning: To exit: use 'exit', 'quit', or Ctrl-D.\n",
      "  warn(\"To exit: use 'exit', 'quit', or Ctrl-D.\", stacklevel=1)\n"
     ]
    }
   ],
   "source": [
    "# %load main.py\n",
    "from Game import Game\n",
    "import argparse\n",
    "\n",
    "parser = argparse.ArgumentParser(description='Process arguments about an NBA game.')\n",
    "parser.add_argument('--path', type=str,\n",
    "                    help='a path to json file to read the events from',\n",
    "                    required = True)\n",
    "parser.add_argument('--event', type=int, default=0,\n",
    "                    help=\"\"\"an index of the event to create the animation to\n",
    "                            (the indexing start with zero, if you index goes beyond out\n",
    "                            the total number of events (plays), it will show you the last\n",
    "                            one of the game)\"\"\")\n",
    "\n",
    "args = parser.parse_args()\n",
    "\n",
    "game = Game(path_to_json=args.path, event_index=args.event)\n",
    "game.read_json()\n",
    "\n",
    "game.start()\n"
   ]
  },
  {
   "cell_type": "code",
   "execution_count": 5,
   "metadata": {},
   "outputs": [
    {
     "ename": "SyntaxError",
     "evalue": "invalid syntax (<ipython-input-5-2b7f652c130e>, line 1)",
     "output_type": "error",
     "traceback": [
      "\u001b[1;36m  File \u001b[1;32m\"<ipython-input-5-2b7f652c130e>\"\u001b[1;36m, line \u001b[1;32m1\u001b[0m\n\u001b[1;33m    main.py --path=0021500001.json --event=3\u001b[0m\n\u001b[1;37m                                 ^\u001b[0m\n\u001b[1;31mSyntaxError\u001b[0m\u001b[1;31m:\u001b[0m invalid syntax\n"
     ]
    }
   ],
   "source": [
    "main.py --path=0021500001.json --event=3"
   ]
  },
  {
   "cell_type": "code",
   "execution_count": null,
   "metadata": {
    "collapsed": true
   },
   "outputs": [],
   "source": []
  }
 ],
 "metadata": {
  "kernelspec": {
   "display_name": "Python 2",
   "language": "python",
   "name": "python2"
  },
  "language_info": {
   "codemirror_mode": {
    "name": "ipython",
    "version": 2
   },
   "file_extension": ".py",
   "mimetype": "text/x-python",
   "name": "python",
   "nbconvert_exporter": "python",
   "pygments_lexer": "ipython2",
   "version": "2.7.13"
  }
 },
 "nbformat": 4,
 "nbformat_minor": 2
}
